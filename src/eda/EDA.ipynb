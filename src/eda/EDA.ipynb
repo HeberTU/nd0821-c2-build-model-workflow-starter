{
 "cells": [
  {
   "cell_type": "markdown",
   "id": "77c95f75",
   "metadata": {},
   "source": [
    "# Short-term Rental Price in NYC EDA\n",
    "\n",
    "A property management company rents rooms and properties for short periods on various rental platforms. The company needs to estimate the typical price for a given property based on the cost of similar properties. Hence, we will build a model base on historical data. But before initializing the learning task, we will perform an exploratory data analysis to gain a deeper understanding of the data."
   ]
  },
  {
   "cell_type": "code",
   "execution_count": 1,
   "id": "f3b0f088",
   "metadata": {},
   "outputs": [],
   "source": [
    "import wandb\n",
    "import pandas as pd\n",
    "import pandas_profiling"
   ]
  },
  {
   "cell_type": "markdown",
   "id": "2de0d66b",
   "metadata": {},
   "source": [
    "To guarantee reproducibility, we will use W&B data versioning system:"
   ]
  },
  {
   "cell_type": "code",
   "execution_count": 2,
   "id": "dd8e8d51",
   "metadata": {
    "scrolled": true
   },
   "outputs": [
    {
     "name": "stderr",
     "output_type": "stream",
     "text": [
      "\u001B[34m\u001B[1mwandb\u001B[0m: Currently logged in as: \u001B[33mheber\u001B[0m (use `wandb login --relogin` to force relogin)\n",
      "\u001B[34m\u001B[1mwandb\u001B[0m: wandb version 0.12.11 is available!  To upgrade, please run:\n",
      "\u001B[34m\u001B[1mwandb\u001B[0m:  $ pip install wandb --upgrade\n"
     ]
    },
    {
     "data": {
      "text/html": [
       "\n",
       "                Tracking run with wandb version 0.10.31<br/>\n",
       "                Syncing run <strong style=\"color:#cdcd00\">vivid-silence-6</strong> to <a href=\"https://wandb.ai\" target=\"_blank\">Weights & Biases</a> <a href=\"https://docs.wandb.com/integrations/jupyter.html\" target=\"_blank\">(Documentation)</a>.<br/>\n",
       "                Project page: <a href=\"https://wandb.ai/heber/nyc_airbnb\" target=\"_blank\">https://wandb.ai/heber/nyc_airbnb</a><br/>\n",
       "                Run page: <a href=\"https://wandb.ai/heber/nyc_airbnb/runs/1edlji74\" target=\"_blank\">https://wandb.ai/heber/nyc_airbnb/runs/1edlji74</a><br/>\n",
       "                Run data is saved locally in <code>/mnt/c/Users/htrujillo/Udacity/projects/nd0821-c2-build-model-workflow-starter/src/eda/wandb/run-20220402_184443-1edlji74</code><br/><br/>\n",
       "            "
      ],
      "text/plain": [
       "<IPython.core.display.HTML object>"
      ]
     },
     "metadata": {},
     "output_type": "display_data"
    }
   ],
   "source": [
    "run = wandb.init(\n",
    "    project=\"nyc_airbnb\", \n",
    "    group=\"eda\",\n",
    "    save_code=True\n",
    ")"
   ]
  },
  {
   "cell_type": "markdown",
   "id": "f2e8d3a9",
   "metadata": {},
   "source": [
    "We download the data:"
   ]
  },
  {
   "cell_type": "code",
   "execution_count": 3,
   "id": "3b0a2adb",
   "metadata": {},
   "outputs": [],
   "source": [
    "local_path = wandb.use_artifact(\"sample.csv:latest\").file()\n",
    "df = pd.read_csv(filepath_or_buffer=local_path)"
   ]
  },
  {
   "cell_type": "markdown",
   "id": "0542159d",
   "metadata": {},
   "source": [
    "Then we will use pandas_profiling to automate the data analysis:"
   ]
  },
  {
   "cell_type": "code",
   "execution_count": null,
   "id": "f1660b89",
   "metadata": {},
   "outputs": [
    {
     "data": {
      "application/vnd.jupyter.widget-view+json": {
       "model_id": "f4134c29f6d446b6b89d8b6e48cf0106",
       "version_major": 2,
       "version_minor": 0
      },
      "text/plain": [
       "Summarize dataset:   0%|          | 0/29 [00:00<?, ?it/s]"
      ]
     },
     "metadata": {},
     "output_type": "display_data"
    }
   ],
   "source": [
    "profile = pandas_profiling.ProfileReport(df)\n",
    "profile.to_notebook_iframe()"
   ]
  },
  {
   "cell_type": "markdown",
   "id": "63166a82",
   "metadata": {},
   "source": [
    "We encounter the following:\n",
    "\n",
    "1. There are missing values in a few columns; we will input the missing values within the inference pipeline.\n",
    "2. The column last_review is a date, but it is in string format; we will transform it to date format.\n",
    "3. The price column has some outliers, after talking with the stakeholders, we decided to consider from a minimum of 10 to a \n",
    "maximum of 350 per night."
   ]
  },
  {
   "cell_type": "code",
   "execution_count": null,
   "id": "6d3cfa49",
   "metadata": {},
   "outputs": [],
   "source": [
    "# Drop outliers\n",
    "min_price = 10\n",
    "max_price = 350\n",
    "idx = df['price'].between(min_price, max_price)\n",
    "df = df[idx].copy()\n",
    "# Convert last_review to datetime\n",
    "df['last_review'] = pd.to_datetime(df['last_review'])"
   ]
  },
  {
   "cell_type": "code",
   "execution_count": null,
   "id": "920f05e9",
   "metadata": {},
   "outputs": [],
   "source": [
    "profile = pandas_profiling.ProfileReport(df)\n",
    "profile.to_notebook_iframe()"
   ]
  },
  {
   "cell_type": "code",
   "execution_count": null,
   "id": "f865c2f5",
   "metadata": {},
   "outputs": [],
   "source": [
    "run.finish()"
   ]
  }
 ],
 "metadata": {
  "kernelspec": {
   "display_name": "Python 3",
   "language": "python",
   "name": "python3"
  },
  "language_info": {
   "codemirror_mode": {
    "name": "ipython",
    "version": 3
   },
   "file_extension": ".py",
   "mimetype": "text/x-python",
   "name": "python",
   "nbconvert_exporter": "python",
   "pygments_lexer": "ipython3",
   "version": "3.9.12"
  }
 },
 "nbformat": 4,
 "nbformat_minor": 5
}